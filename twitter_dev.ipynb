{
 "cells": [
  {
   "cell_type": "markdown",
   "metadata": {},
   "source": [
    "# Twitter HOWTO"
   ]
  },
  {
   "cell_type": "markdown",
   "metadata": {},
   "source": [
    "## <a name=\"simple\">Using the simple `Twitter` class</a>\n",
    "\n",
    "### Dipping into the Public Stream\n",
    "\n",
    "The `Twitter` class is intended as a simple means of interacting with the Twitter data stream. Later on, we'll look at other methods which give more fine-grained control. \n",
    "\n",
    "The Twitter live public stream is a sample (approximately 1%) of all Tweets that are currently being published by users. They can be on any topic and in any language. In your request, you can give keywords which will narrow down the Tweets that get delivered to you. Our first example looks for Tweets which include either the word *love* or *hate*. We limit the call to finding 10 tweets. When you run this code, it will definitely produce different results from those shown below!"
   ]
  },
  {
   "cell_type": "code",
   "execution_count": 14,
   "metadata": {},
   "outputs": [
    {
     "name": "stdout",
     "output_type": "stream",
     "text": [
      "@itsashleyfuchs love uuu\n",
      "I just love you even more than I already did soul sista @ava . A visionary. #QueenSugar\n",
      "RT @tomellis17: I actually hate tomatoes but this...🤣 https://t.co/K2ZGJ1zkJi\n",
      "// An additional rule before I forget and go off on someone for this; If you intend to fuck Steven or Connie by the… https://t.co/cCIbV2RII5\n",
      "\"February 1974, for instance, features 'The Love Contract—How to Make Your Arrangement Sweet and Binding' mere inch… https://t.co/vOV8OIdtmt\n",
      "RT @JohnFugelsang: I'm half-Southern &amp; Half-Northern;my family has had law enforcement &amp; convicts, immigrants &amp; rich people; I've got a Mus…\n",
      "I just want a daddy to tell me they love me and tell me stories at night time 🥺🥺🥺 https://t.co/864Xgyv9c0\n",
      "RT @Taniamedina_: Don't worry my love, we're learning to love but it's hard when you're young\n",
      "RT @alexiafdn: \"I love the magic of it all. I love how tricky it is. I believe it can heal (&amp; harm). I like having ammo tins upon ammo tins…\n",
      "RT @BBWslayer666: Love is temporary gaming is forever. We will rise above and prosper gamers now is our time ✊ https://t.co/zZuulgJyEv\n",
      "Written 10 Tweets\n"
     ]
    }
   ],
   "source": [
    "from nltk.twitter import Twitter\n",
    "tw = Twitter()\n",
    "tw.tweets(keywords='love, hate', limit=10) #sample from the public stream"
   ]
  },
  {
   "cell_type": "code",
   "execution_count": 7,
   "metadata": {
    "scrolled": true
   },
   "outputs": [
    {
     "name": "stdout",
     "output_type": "stream",
     "text": [
      "RT @tafc_academy: Top 3 players at the World Cup:\n",
      "\n",
      "1.Luka Modric 5ft8\n",
      "2.Eden Hazard 5ft8\n",
      "3.Antoine Griezmann 5ft9\n",
      "\n",
      "Sort of players that Eng…\n",
      "RT @tafc_academy: Top 3 players at the World Cup:\n",
      "\n",
      "1.Luka Modric 5ft8\n",
      "2.Eden Hazard 5ft8\n",
      "3.Antoine Griezmann 5ft9\n",
      "\n",
      "Sort of players that Eng…\n",
      "RT @Ryan_McQueeney: From Antoine Griezmann's dancing to Drake playing with the pros, the Fortnite craze is sweeping the world. Luckily, inv…\n",
      "RT @eric_italiano: This has me in absolute tears.\n",
      "\n",
      "The greatest sketch comedy writers in the world could never dream of writing something a…\n",
      "RT @tafc_academy: Top 3 players at the World Cup:\n",
      "\n",
      "1.Luka Modric 5ft8\n",
      "2.Eden Hazard 5ft8\n",
      "3.Antoine Griezmann 5ft9\n",
      "\n",
      "Sort of players that Eng…\n",
      "RT @tafc_academy: Top 3 players at the World Cup:\n",
      "\n",
      "1.Luka Modric 5ft8\n",
      "2.Eden Hazard 5ft8\n",
      "3.Antoine Griezmann 5ft9\n",
      "\n",
      "Sort of players that Eng…\n",
      "RT @SportsJOE_UK: Antoine Griezmann and Raphaël Varane both spoke up too, offering calming words to their teammates https://t.co/ChsviIXvng\n",
      "Presnel Kimpembe &amp; Antoine Griezmann with the #WorldCup trophy. #FRA [by Ian MacNicol]: https://t.co/EB64B6bKur\n",
      "RT @no1xdg: No hate against Antoine Griezmann shall be tolerated 🙅🏽‍♂️ https://t.co/pK2tqWg2ix\n",
      "RT @FlFAWC2018: Paul Pogba wears a sombrero and Antoine Griezmann shouts \"VIVA MEXICO\" and sends Mexican style greetings to Carlos Vela 🇲🇽😂…\n",
      "Written 10 Tweets\n"
     ]
    }
   ],
   "source": [
    "tw.tweets(keywords='Antoine Griezmann', stream=False, limit=10)"
   ]
  },
  {
   "cell_type": "code",
   "execution_count": 13,
   "metadata": {
    "scrolled": true
   },
   "outputs": [
    {
     "name": "stdout",
     "output_type": "stream",
     "text": [
      "@cptpws From the limited info you have provided (I understand that) - my best advice at that age right now would be… https://t.co/mvAyr16c9b\n",
      "RT @Digital__Maker: « Je n’imaginais pas que Python connaîtrait un tel succès » https://t.co/6MQmtqSI1u — via @lemondefr\n",
      "RT @shuheikitamura: 阪大OSIPPでも今期からVersion Controlや，PythonとRを使ったデータ・クリーニングやデータ分析を一通り学べるスキル育成系の授業を開講している(注: 英語)．恐らく日本初の試み．講義資料はオープンで実際に手を動かせて学…\n",
      "😆very useful!!!!! THX https://t.co/wY89tejcBF\n",
      "RT @TheEconomist: 40% of American schools now offer lessons in computer programming. Python could be the ideal starting language https://t.…\n",
      "RT @guillo955: Cuando los dos se están pegando cuernos pero ninguno deja al otro https://t.co/neZrRbgdeL\n",
      "RT @guillo955: Cuando los dos se están pegando cuernos pero ninguno deja al otro https://t.co/neZrRbgdeL\n",
      "RT @gp_pulipaka: A Look at Android ML Kit - The Machine Learning SDK. #BigData #Analytics #MachineLearning #DataScience #AI #IoT #IIoT #Pyt…\n",
      "#Cybersecurity #Hacker Hacking with Python: The Complete Beginner’s Guide to Learning Ethical Hacking with Python… https://t.co/oyMAG9vKFq\n",
      "RT @guillo955: Cuando los dos se están pegando cuernos pero ninguno deja al otro https://t.co/neZrRbgdeL\n",
      "Written 10 Tweets\n"
     ]
    }
   ],
   "source": [
    "tw.tweets(keywords='python', limit=10) #sample from the public stream"
   ]
  },
  {
   "cell_type": "markdown",
   "metadata": {},
   "source": [
    "The next example filters the live public stream by looking for specific user accounts. In this case, we 'follow' two news organisations, namely `@CNN` and `@BBCNews`. [As advised by Twitter](https://dev.twitter.com/streaming/reference/post/statuses/filter), we use *numeric userIDs* for these accounts. If you run this code yourself, you'll see that Tweets are arriving much more slowly than in the previous example. This is because even big new organisations don't publish Tweets that often.\n",
    "\n",
    "A bit later we will show you how to use Python to convert usernames such as `@CNN` to userIDs such as `759251`, but for now you might find it simpler to use a web service like [TweeterID](http://tweeterid.com) if you want to experiment with following different accounts than the ones shown below."
   ]
  },
  {
   "cell_type": "code",
   "execution_count": 9,
   "metadata": {},
   "outputs": [
    {
     "name": "stdout",
     "output_type": "stream",
     "text": [
      "@CNN 2020 race is already over. Trump won.\n",
      "@CNN Really and how many votes will they get for that gift lol\n",
      "RT @CNN: The White House banned Kaitlan Collins, a White House reporter for CNN, from a press event after Collins asked President Trump que…\n",
      "RT @CNN: Misty Copeland, Gigi Hadid to star in 2019 Pirelli calendar https://t.co/wuFzWN3MR7 via @CNNStyle https://t.co/ou3rWP7LD7\n",
      "RT @CNN: A number of potential 2020 Democratic presidential contenders are behind a bill that would allow Puerto Rico to terminate its $73…\n",
      "@CNN Hack #KaitlinCollins kicked out! https://t.co/sOJRALR5CC\n",
      "RT @CNN: JPMorgan Chase, Wells Fargo and other banks have come under fire for helping to finance private prisons used by the federal govern…\n",
      "RT @CNN: A number of potential 2020 Democratic presidential contenders are behind a bill that would allow Puerto Rico to terminate its $73…\n",
      "@CNN At they going to terminate every US citizens debt too?? They never learn\n",
      "RT @CNN: After years of research, scientists have confirmed that liquid water exists on Mars. This could allow humans to further explore th…\n",
      "Written 10 Tweets\n"
     ]
    }
   ],
   "source": [
    "tw = Twitter()\n",
    "tw.tweets(follow=['759251'], limit=10) # see what CNN is talking about"
   ]
  },
  {
   "cell_type": "code",
   "execution_count": null,
   "metadata": {},
   "outputs": [],
   "source": [
    "tw = Twitter()\n",
    "tw.tweets(follow=['387156826'], limit=10) # see what ICML conf is talking about"
   ]
  },
  {
   "cell_type": "markdown",
   "metadata": {},
   "source": [
    "### Saving Tweets to a File\n",
    "\n",
    "By default, the `Twitter` class will just print out Tweets to your computer terminal. Although it's fun to view the Twitter stream zipping by on your screen, you'll probably want to save some tweets in a file. We can tell the `tweets()` method to save to a file by setting the flag `to_screen` to `False`. \n",
    "\n",
    "The `Twitter` class will look at the value of your environmental variable `TWITTER` to determine which folder to use to save the tweets, and it will put them in a date-stamped file with the prefix `tweets`. "
   ]
  },
  {
   "cell_type": "code",
   "execution_count": 6,
   "metadata": {},
   "outputs": [
    {
     "name": "stdout",
     "output_type": "stream",
     "text": [
      "Writing to /Users/youngmihuang/twitter-files/tweets.20180719-060228.json\n",
      "Written 25 Tweets\n"
     ]
    }
   ],
   "source": [
    "tw = Twitter()\n",
    "tw.tweets(to_screen=False, limit=25)"
   ]
  },
  {
   "cell_type": "markdown",
   "metadata": {},
   "source": [
    "So far, we've been taking data from the live public stream. However, it's also possible to retrieve past tweets, for example by searching for specific keywords, and setting `stream=False`:"
   ]
  },
  {
   "cell_type": "markdown",
   "metadata": {},
   "source": [
    "## <a name=\"onwards\">Onwards and Upwards</a>\n",
    "\n",
    "In this section, we'll look at how to get more fine-grained control over processing Tweets. To start off, we will import a bunch of stuff from the `twitter` package."
   ]
  },
  {
   "cell_type": "code",
   "execution_count": 16,
   "metadata": {},
   "outputs": [],
   "source": [
    "from nltk.twitter import Query, Streamer, Twitter, TweetViewer, TweetWriter, credsfromfile"
   ]
  },
  {
   "cell_type": "markdown",
   "metadata": {},
   "source": [
    "In the following example, you'll see the line\n",
    "``` python\n",
    "oauth = credsfromfile()\n",
    "```\n",
    "This gets hold of your stored API key information. The function `credsfromfile()` by default looks for a file called `credentials.txt` in the directory set by the environment variable `TWITTER`, reads the contents and returns the result as a dictionary. We then pass this dictionary as an argument when initializing our client code. We'll be using two classes to wrap the clients: `Streamer` and `Query`; the first of these calls [the Streaming API](https://dev.twitter.com/streaming/overview) and the second calls Twitter's [Search API](https://dev.twitter.com/rest/public) (also called the REST API). "
   ]
  },
  {
   "cell_type": "markdown",
   "metadata": {},
   "source": [
    "*More detail*: For more detail, see this blog post on [The difference between the Twitter Firehose API, the Twitter Search API, and the Twitter Streaming API](http://www.brightplanet.com/2013/06/twitter-firehose-vs-twitter-api-whats-the-difference-and-why-should-you-care/)\n"
   ]
  },
  {
   "cell_type": "markdown",
   "metadata": {},
   "source": [
    "After initializing a client, we call the `register()` method to specify whether we want to view the data on a terminal or write it to a file. Finally, we call a method which determines the API endpoint to address; in this case, we use `sample()` to get a random sample from the the Streaming API."
   ]
  },
  {
   "cell_type": "code",
   "execution_count": 112,
   "metadata": {},
   "outputs": [
    {
     "name": "stdout",
     "output_type": "stream",
     "text": [
      "RT @JaneyOshira: Follow like and comment on a post for a nude DM https://t.co/L5oe5yBGmH ??? https://t.co/IBZlDTJJtD\n",
      "RT @bayu_joo: \"coba deh biasain ucapin terima kasih, maaf, dan tolong\" \n",
      "\n",
      "👧 aku mau kita putus\n",
      "👦 oke, terima kasih atas keputusannya\n",
      "👧 kok k…\n",
      "RT @mehansaudi: مطلوب معلمات لغة إنجليزية. ترسل السيرة الذاتية إلى\n",
      "⁦Jobsibnroshd@ibnroshd.edu.sa⁩ #وظائف_مهن https://t.co/u5Me4zyzk9\n",
      "バイト行くで～ーーーー\n",
      "RT @bhamtradfest: BIRMINGHAM TRADFEST 2018\n",
      "\n",
      "It gives us great pleasure to announce full details for this year’s festival. Tickets now on sa…\n",
      "Factssss cause bitches is stupidddddddd! Lmao https://t.co/FhX7HciG4B\n",
      "RT @EU_Commission: Commissioner for crisis management @StylianidesEU is in Athens to coordinate the assistance provided to fight against fo…\n",
      "RT @SonerArica: 🤘😎 https://t.co/lD3GJO8x4m\n",
      "@SAfridiOfficial @ImranKhanPTI Thank u soo much\n",
      "RT @mwtrendsetter: “I’ll pick Maymay (Entrata), she’s kind of a goofball, a little bit like me.” - Catriona\n",
      "\n",
      "#WatchWansaOnSunday\n",
      "\n",
      "@maymayen…\n",
      "Written 10 Tweets\n"
     ]
    }
   ],
   "source": [
    "oauth = credsfromfile()\n",
    "client = Streamer(**oauth) # streaming\n",
    "client.register(TweetViewer(limit=10))\n",
    "client.sample() # get random sample"
   ]
  },
  {
   "cell_type": "markdown",
   "metadata": {},
   "source": [
    "The next example is similar, except that we call the `filter()` method with the `track` parameter followed by a string literal. The string is interpreted as a list of search terms where [comma indicates a logical OR](https://dev.twitter.com/streaming/overview/request-parameters#track). The terms are treated as case-insensitive."
   ]
  },
  {
   "cell_type": "code",
   "execution_count": 73,
   "metadata": {
    "scrolled": true
   },
   "outputs": [
    {
     "name": "stdout",
     "output_type": "stream",
     "text": [
      "なんやこれ https://t.co/aFJOHy8jK5\n",
      "RT @emilyrauhala: DEVELOPING: Multiple reports of a loud noise or explosion at or near the U.S. embassy in Beijing. Precise location, cause…\n",
      "RT @CamFreck: More pics of alleged explosion at US embassy/area in Beijing (from Weibo) https://t.co/tEdXEXPIiq\n",
      "Written 3 Tweets\n"
     ]
    }
   ],
   "source": [
    "client = Streamer(**oauth)\n",
    "client.register(TweetViewer(limit=3))\n",
    "client.filter(track='US embassy')"
   ]
  },
  {
   "cell_type": "markdown",
   "metadata": {},
   "source": [
    "Whereas the Streaming API lets us access near real-time Twitter data, the Search API lets us query for past Tweets. In the following example, the value `tweets` returned by `search_tweets()` is a generator; the expression `next(tweets)` gives us the first Tweet from the generator. \n",
    "\n",
    "Although Twitter delivers Tweets as [JSON](http://www.json.org) objects, the Python client encodes them as dictionaries, and the example pretty-prints a portion of the dictionary corresponding the Tweet in question."
   ]
  },
  {
   "cell_type": "code",
   "execution_count": 111,
   "metadata": {
    "scrolled": false
   },
   "outputs": [
    {
     "name": "stdout",
     "output_type": "stream",
     "text": [
      "{'contributors': None,\n",
      " 'coordinates': None,\n",
      " 'created_at': 'Thu Jul 26 07:42:01 +0000 2018',\n",
      " 'entities': {...},\n",
      " 'favorite_count': 0,\n",
      " 'favorited': False,\n",
      " 'geo': None,\n",
      " 'id': 1022386544261431296,\n",
      " 'id_str': '1022386544261431296',\n",
      " 'in_reply_to_screen_name': None,\n",
      " 'in_reply_to_status_id': None,\n",
      " 'in_reply_to_status_id_str': None,\n",
      " 'in_reply_to_user_id': None,\n",
      " 'in_reply_to_user_id_str': None,\n",
      " 'is_quote_status': False,\n",
      " 'lang': 'en',\n",
      " 'metadata': {...},\n",
      " 'place': None,\n",
      " 'possibly_sensitive': False,\n",
      " 'retweet_count': 3,\n",
      " 'retweeted': False,\n",
      " 'retweeted_status': {...},\n",
      " 'source': '<a href=\"https://mobile.twitter.com\" rel=\"nofollow\">Twitter '\n",
      "           'Lite</a>',\n",
      " 'text': 'RT @paul_fergus: Another great talk by @Chalmerscarl from @LJMU_CMP '\n",
      "         '@LJMU on using smart meters and machine learning to monitor disease '\n",
      "         'pro…',\n",
      " 'truncated': False,\n",
      " 'user': {...}}\n"
     ]
    }
   ],
   "source": [
    "client = Query(**oauth) # 過去的tweets\n",
    "tweets = client.search_tweets(keywords='machine learning', limit=10) # 這是一個產生器\n",
    "tweet = next(tweets)\n",
    "from pprint import pprint\n",
    "pprint(tweet, depth=1)"
   ]
  },
  {
   "cell_type": "markdown",
   "metadata": {},
   "source": [
    "Twitter's own documentation [provides a useful overview of all the fields in the JSON object](https://dev.twitter.com/overview/api/tweets) and it may be helpful to look at this [visual map of a Tweet object](http://www.scribd.com/doc/30146338/map-of-a-tweet).\n",
    "\n",
    "Since each Tweet is converted into a Python dictionary, it's straightforward to just show a selected field, such as the value of the `'text'` key."
   ]
  },
  {
   "cell_type": "code",
   "execution_count": 120,
   "metadata": {},
   "outputs": [
    {
     "name": "stdout",
     "output_type": "stream",
     "text": [
      "Writing to /Users/youngmihuang/twitter-files/tweets.20180726-155316.json\n"
     ]
    }
   ],
   "source": [
    "client = Query(**oauth)\n",
    "client.register(TweetWriter())\n",
    "client.user_tweets('realDonaldTrump', 10)"
   ]
  },
  {
   "cell_type": "code",
   "execution_count": 196,
   "metadata": {},
   "outputs": [
    {
     "name": "stdout",
     "output_type": "stream",
     "text": [
      "European Union representatives told me that they would start buying soybeans from our great farmers immediately. Al… https://t.co/Yuqt4KNeDz\n",
      "Great to be back on track with the European Union. This was a big day for free and fair trade!\n",
      "Thank you Georgia! They say that my endorsement last week of Brian Kemp, in the Republican Primary for Governor aga… https://t.co/M1mCXcWQup\n",
      "Obviously the European Union, as represented by @JunckerEU and the United States, as represented by yours truly, lo… https://t.co/lCQ2nShUeM\n",
      "...along quickly. European Union Nations will be open to the United States and at the same time benefiting by every… https://t.co/fvNuvtAfE9\n",
      "Great meeting on Trade today with @JunckerEU and representatives of the European Union. We have come to a very stro… https://t.co/cOa4atnFMC\n",
      "Thank you very much, working hard! https://t.co/cSzbFfq2NW\n",
      "Sergio Marchionne, who passed away today, was one of the most brilliant &amp; successful car executives since the days… https://t.co/h3QOAyG4fP\n",
      "This week, my Administration is hosting the first-ever #IRFMinisterial. The U.S. will continue to promote… https://t.co/nD019chBeX\n"
     ]
    }
   ],
   "source": [
    "import json\n",
    "tw_list = []\n",
    "filename = '/Users/youngmihuang/twitter-files/tweets.20180726-155316.json'\n",
    "with open(filename, 'r') as f:\n",
    "    line = f.readlines() # read only the first tweet/line\n",
    "    for i in line:\n",
    "        twee = json.loads(i)\n",
    "        each = twee['text']\n",
    "        tw_list.append(each)\n",
    "        print(each)"
   ]
  },
  {
   "cell_type": "markdown",
   "metadata": {},
   "source": [
    "Given a list of user IDs, the following example shows how to retrieve the screen name and other information about the users."
   ]
  },
  {
   "cell_type": "code",
   "execution_count": 174,
   "metadata": {},
   "outputs": [
    {
     "name": "stdout",
     "output_type": "stream",
     "text": [
      "RoyalFamily, followers: 3772976, following: 522\n",
      "AntoGriezmann, followers: 5480922, following: 3\n",
      "icmlconf, followers: 11054, following: 5\n",
      "CNN, followers: 40001853, following: 1115\n",
      "BBCNews, followers: 9412163, following: 99\n",
      "realDonaldTrump, followers: 53285875, following: 47\n"
     ]
    }
   ],
   "source": [
    "userids = ['36042554', '950341134', '387156826', '759251', '612473','25073877']\n",
    "client = Query(**oauth)\n",
    "user_info = client.user_info_from_id(userids)\n",
    "for info in user_info:\n",
    "    name = info['screen_name']\n",
    "    followers = info['followers_count']\n",
    "    following = info['friends_count']\n",
    "    print(\"{}, followers: {}, following: {}\".format(name, followers, following))"
   ]
  },
  {
   "cell_type": "markdown",
   "metadata": {},
   "source": [
    "## Visualization with seaborn"
   ]
  },
  {
   "cell_type": "code",
   "execution_count": 175,
   "metadata": {},
   "outputs": [],
   "source": [
    "import pandas as pd\n",
    "import seaborn as sns\n",
    "import matplotlib.pyplot as plt\n",
    "\n",
    "userids = ['36042554', '950341134', '387156826', '759251', '612473','25073877']\n",
    "client = Query(**oauth)\n",
    "user_info = client.user_info_from_id(userids)\n",
    "name=[]\n",
    "followers=[]\n",
    "following=[]\n",
    "for info in user_info:\n",
    "    name.append(info['screen_name'])\n",
    "    followers.append(info['followers_count'])\n",
    "    following.append(info['friends_count'])\n",
    "\n",
    "df = pd.DataFrame({'username':name})\n",
    "df['followers'] = followers\n",
    "df['following'] = following"
   ]
  },
  {
   "cell_type": "code",
   "execution_count": 194,
   "metadata": {},
   "outputs": [
    {
     "data": {
      "text/html": [
       "<div>\n",
       "<style scoped>\n",
       "    .dataframe tbody tr th:only-of-type {\n",
       "        vertical-align: middle;\n",
       "    }\n",
       "\n",
       "    .dataframe tbody tr th {\n",
       "        vertical-align: top;\n",
       "    }\n",
       "\n",
       "    .dataframe thead th {\n",
       "        text-align: right;\n",
       "    }\n",
       "</style>\n",
       "<table border=\"1\" class=\"dataframe\">\n",
       "  <thead>\n",
       "    <tr style=\"text-align: right;\">\n",
       "      <th></th>\n",
       "      <th>username</th>\n",
       "      <th>followers</th>\n",
       "      <th>following</th>\n",
       "    </tr>\n",
       "  </thead>\n",
       "  <tbody>\n",
       "    <tr>\n",
       "      <th>0</th>\n",
       "      <td>RoyalFamily</td>\n",
       "      <td>3772976</td>\n",
       "      <td>522</td>\n",
       "    </tr>\n",
       "    <tr>\n",
       "      <th>1</th>\n",
       "      <td>AntoGriezmann</td>\n",
       "      <td>5480922</td>\n",
       "      <td>3</td>\n",
       "    </tr>\n",
       "    <tr>\n",
       "      <th>2</th>\n",
       "      <td>icmlconf</td>\n",
       "      <td>11054</td>\n",
       "      <td>5</td>\n",
       "    </tr>\n",
       "    <tr>\n",
       "      <th>3</th>\n",
       "      <td>CNN</td>\n",
       "      <td>40001853</td>\n",
       "      <td>1115</td>\n",
       "    </tr>\n",
       "    <tr>\n",
       "      <th>4</th>\n",
       "      <td>BBCNews</td>\n",
       "      <td>9412163</td>\n",
       "      <td>99</td>\n",
       "    </tr>\n",
       "    <tr>\n",
       "      <th>5</th>\n",
       "      <td>realDonaldTrump</td>\n",
       "      <td>53285879</td>\n",
       "      <td>47</td>\n",
       "    </tr>\n",
       "  </tbody>\n",
       "</table>\n",
       "</div>"
      ],
      "text/plain": [
       "          username  followers  following\n",
       "0      RoyalFamily    3772976        522\n",
       "1    AntoGriezmann    5480922          3\n",
       "2         icmlconf      11054          5\n",
       "3              CNN   40001853       1115\n",
       "4          BBCNews    9412163         99\n",
       "5  realDonaldTrump   53285879         47"
      ]
     },
     "execution_count": 194,
     "metadata": {},
     "output_type": "execute_result"
    }
   ],
   "source": [
    "df"
   ]
  },
  {
   "cell_type": "code",
   "execution_count": 195,
   "metadata": {},
   "outputs": [
    {
     "data": {
      "image/png": "[encoded data removed]",
      "text/plain": [
       "<Figure size 720x360 with 1 Axes>"
      ]
     },
     "metadata": {},
     "output_type": "display_data"
    }
   ],
   "source": [
    "fig = sns.factorplot(data=df, x=\"username\", y=\"following\",kind=\"bar\", size=5, aspect=2)\n",
    "fig = fig.map(plt.scatter, \"username\", \"following\", edgecolor=\"w\")\n",
    "fig.axes[0,0].set_xlabel('TwitterID', fontsize=12)\n",
    "fig.axes[0,0].set_ylabel('Following', fontsize=12)\n",
    "fig.ax.tick_params(axis='y',labelsize=14)\n",
    "fig.ax.tick_params(axis='x',labelsize=14)\n",
    "# fig.set_xlabel(\"TwitterID\",fontsize=30)\n",
    "fig.savefig(\"output.png\")"
   ]
  },
  {
   "cell_type": "markdown",
   "metadata": {},
   "source": [
    "A list of user IDs can also be used as input to the Streaming API client."
   ]
  },
  {
   "cell_type": "code",
   "execution_count": 26,
   "metadata": {},
   "outputs": [
    {
     "name": "stdout",
     "output_type": "stream",
     "text": [
      "@CNN Hmm well let’s hope Airport scanners can detect them. Otherwise I’m not flying through the USA.\n",
      "RT @BBCNews: The danger is that \"by accident\" the UK will \"crash out\" of the EU without a deal, hurting most those who have the least, form…\n",
      "RT @CNN: A wave of garbage was filmed rippling off the coast of the Dominican Republic. An environmental group is working with the governme…\n",
      "@BBCNews When will Major understand, no one cared what he thought when he was PM. They certainly don’t now\n",
      "@BBCNews We voted OUT\n",
      "RT @CNN: This 11 year old was bullied for her skin color. Now, she owns a successful clothing line https://t.co/aXpCrl6oW4 https://t.co/LGx…\n",
      "RT @CNN: New York Gov. Andrew Cuomo's large lead against candidate Cynthia Nixon in the upcoming gubernatorial primary is emblematic of two…\n",
      "@BBCNews And Leave campaign broke the law.\n",
      "@BBCNews Before the referendum \"There will be no second referendum, this is it\" An honourable man, he is not.\n",
      "RT @BBCNews: A second referendum is \"morally justified\" because the Leave campaign made great number of \"fantasy promises\", former PM John…\n",
      "Written 10 Tweets\n"
     ]
    }
   ],
   "source": [
    "client = Streamer(**oauth)\n",
    "client.register(TweetViewer(limit=10))\n",
    "client.statuses.filter(follow=userids)"
   ]
  },
  {
   "cell_type": "markdown",
   "metadata": {},
   "source": [
    "To store data that Twitter sents by the Streaming API, we register a `TweetWriter` instance."
   ]
  },
  {
   "cell_type": "code",
   "execution_count": 14,
   "metadata": {},
   "outputs": [
    {
     "name": "stdout",
     "output_type": "stream",
     "text": [
      "Writing to /Users/ewan/twitter-files/tweets.20150926-154408.json\n",
      "Written 10 Tweets\n"
     ]
    }
   ],
   "source": [
    "client = Streamer(**oauth)\n",
    "client.register(TweetWriter(limit=10))\n",
    "\n",
    "client.statuses.sample()"
   ]
  },
  {
   "cell_type": "markdown",
   "metadata": {},
   "source": [
    "Here's the full signature of the `Tweetwriter`'s `__init__()` method:\n",
    "```python\n",
    "def __init__(self, limit=2000, upper_date_limit=None, lower_date_limit=None,\n",
    "                 fprefix='tweets', subdir='twitter-files', repeat=False,\n",
    "                 gzip_compress=False):                \n",
    "```\n",
    "If the `repeat` parameter is set to `True`, then the writer will write up to the value of `limit` in file `file1`, then open a new file `file2` and write to it until the limit is reached, and so on indefinitely. The parameter `gzip_compress` can be used to compress the files once they have been written."
   ]
  },
  {
   "cell_type": "markdown",
   "metadata": {},
   "source": [
    "## <a name=\"corpus_reader\">Using a Tweet Corpus</a>\n",
    "\n",
    "NLTK's Twitter corpus currently contains a sample of 20k Tweets (named '`twitter_samples`')\n",
    "retrieved from the Twitter Streaming API, together with another 10k which are divided according to sentiment into negative and positive."
   ]
  },
  {
   "cell_type": "code",
   "execution_count": 204,
   "metadata": {},
   "outputs": [
    {
     "name": "stdout",
     "output_type": "stream",
     "text": [
      "['European', 'Union', 'representatives', 'told', 'me', 'that', 'they', 'would', 'start', 'buying', 'soybeans', 'from', 'our', 'great', 'farmers', 'immediately', '.', 'Al', '…', 'https://t.co/Yuqt4KNeDz']\n",
      "['Great', 'to', 'be', 'back', 'on', 'track', 'with', 'the', 'European', 'Union', '.', 'This', 'was', 'a', 'big', 'day', 'for', 'free', 'and', 'fair', 'trade', '!']\n",
      "['Thank', 'you', 'Georgia', '!', 'They', 'say', 'that', 'my', 'endorsement', 'last', 'week', 'of', 'Brian', 'Kemp', ',', 'in', 'the', 'Republican', 'Primary', 'for', 'Governor', 'aga', '…', 'https://t.co/M1mCXcWQup']\n",
      "['Obviously', 'the', 'European', 'Union', ',', 'as', 'represented', 'by', '@JunckerEU', 'and', 'the', 'United', 'States', ',', 'as', 'represented', 'by', 'yours', 'truly', ',', 'lo', '…', 'https://t.co/lCQ2nShUeM']\n",
      "['...', 'along', 'quickly', '.', 'European', 'Union', 'Nations', 'will', 'be', 'open', 'to', 'the', 'United', 'States', 'and', 'at', 'the', 'same', 'time', 'benefiting', 'by', 'every', '…', 'https://t.co/fvNuvtAfE9']\n"
     ]
    }
   ],
   "source": [
    "from nltk.corpus import twitter_samples\n",
    "\n",
    "input_file = twitter_samples.abspath(\"/Users/youngmihuang/twitter-files/tweets.20180726-155316.json\")\n",
    "tokenized = twitter_samples.tokenized(input_file)\n",
    "for toks in tokenized[:5]:\n",
    "    print(toks)"
   ]
  },
  {
   "cell_type": "markdown",
   "metadata": {},
   "source": [
    "### Extracting Parts of a Tweet\n",
    "\n",
    "If we want to carry out other kinds of analysis on Tweets, we have to work directly with the file rather than via the corpus reader. For demonstration purposes, we will use the same file as the one in the preceding section, namely  `tweets.20150430-223406.json`. The `abspath()` method of the corpus gives us the full pathname of the relevant file. If your NLTK data is installed in the default location on a Unix-like system, this pathname will be `'/usr/share/nltk_data/corpora/twitter_samples/tweets.20150430-223406.json'`."
   ]
  },
  {
   "cell_type": "code",
   "execution_count": 205,
   "metadata": {},
   "outputs": [],
   "source": [
    "from nltk.twitter.common import json2csv\n",
    "with open(input_file) as fp:\n",
    "    json2csv(fp, 'tweets_text.csv', ['text'])"
   ]
  },
  {
   "cell_type": "code",
   "execution_count": 210,
   "metadata": {},
   "outputs": [
    {
     "name": "stdout",
     "output_type": "stream",
     "text": [
      "European Union representatives told me that they would start buying soybeans from our great farmers immediately. Al… https://t.co/Yuqt4KNeDz\n",
      "Great to be back on track with the European Union. This was a big day for free and fair trade!\n",
      "Thank you Georgia! They say that my endorsement last week of Brian Kemp, in the Republican Primary for Governor aga… https://t.co/M1mCXcWQup\n",
      "Obviously the European Union, as represented by @JunckerEU and the United States, as represented by yours truly, lo… https://t.co/lCQ2nShUeM\n",
      "...along quickly. European Union Nations will be open to the United States and at the same time benefiting by every… https://t.co/fvNuvtAfE9\n",
      "Great meeting on Trade today with @JunckerEU and representatives of the European Union. We have come to a very stro… https://t.co/cOa4atnFMC\n",
      "Thank you very much, working hard! https://t.co/cSzbFfq2NW\n",
      "Sergio Marchionne, who passed away today, was one of the most brilliant &amp; successful car executives since the days… https://t.co/h3QOAyG4fP\n",
      "This week, my Administration is hosting the first-ever #IRFMinisterial. The U.S. will continue to promote… https://t.co/nD019chBeX\n"
     ]
    }
   ],
   "source": [
    "data = pd.read_csv('tweets_text.csv')\n",
    "for line in data.text:\n",
    "    print(line)"
   ]
  },
  {
   "cell_type": "code",
   "execution_count": 199,
   "metadata": {},
   "outputs": [],
   "source": [
    "from nltk.twitter.common import json2csv\n",
    "with open(input_file) as fp:\n",
    "    json2csv(fp, 'tweets_text.csv', ['text'])"
   ]
  },
  {
   "cell_type": "markdown",
   "metadata": {
    "collapsed": true
   },
   "source": [
    "The function `json2csv()` takes as input a file-like object consisting of Tweets as line-delimited JSON objects and returns a file in CSV format. The third parameter of the function lists the fields that we want to extract from the JSON. One of the simplest examples is to extract just the text of the Tweets (though of course it would have been even simpler to use the `strings()` method of the corpus reader)."
   ]
  },
  {
   "cell_type": "markdown",
   "metadata": {},
   "source": [
    "We've passed the filename `'tweets_text.csv'` as the second argument of `json2csv()`. Unless you provide a complete pathname, the file will be created in the directory where you are currently executing Python.\n",
    "\n",
    "If you open the file `'tweets_text.csv'`, the first 5 lines should look as follows:\n",
    "\n",
    "```\n",
    "RT @KirkKus: Indirect cost of the UK being in the EU is estimated to be costing Britain £170 billion per year! #BetterOffOut #UKIP\n",
    "VIDEO: Sturgeon on post-election deals http://t.co/BTJwrpbmOY\n",
    "RT @LabourEoin: The economy was growing 3 times faster on the day David Cameron became Prime Minister than it is today.. #BBCqt http://t.co…\n",
    "RT @GregLauder: the UKIP east lothian candidate looks about 16 and still has an msn addy http://t.co/7eIU0c5Fm1\n",
    "RT @thesundaypeople: UKIP's housing spokesman rakes in £800k in housing benefit from migrants.  http://t.co/GVwb9Rcb4w http://t.co/c1AZxcLh…\n",
    "```"
   ]
  },
  {
   "cell_type": "markdown",
   "metadata": {},
   "source": [
    "However, in some applications you may want to work with Tweet metadata, e.g., the creation date and the user. As mentioned earlier, all the fields of a Tweet object are described in [the official Twitter API](https://dev.twitter.com/overview/api/tweets). \n",
    "\n",
    "The third argument of `json2csv()` can specified so that the function selects relevant parts of the metadata. For example, the following will generate a CSV file including most of the metadata together with the id of the user who has published it."
   ]
  },
  {
   "cell_type": "code",
   "execution_count": 238,
   "metadata": {},
   "outputs": [],
   "source": [
    "with open(input_file) as fp:\n",
    "    json2csv(fp, 'tweets.20180726-155316.tweet.csv',\n",
    "            ['created_at', 'favorite_count', 'id', 'in_reply_to_status_id', \n",
    "            'in_reply_to_user_id', 'retweet_count', 'retweeted', \n",
    "            'text', 'truncated', 'user.id'])"
   ]
  },
  {
   "cell_type": "code",
   "execution_count": 240,
   "metadata": {},
   "outputs": [
    {
     "name": "stdout",
     "output_type": "stream",
     "text": [
      "created_at,favorite_count,id,in_reply_to_status_id,in_reply_to_user_id,retweet_count,retweeted,text,truncated,user.id\n",
      "\n",
      "Thu Jul 26 01:07:28 +0000 2018,47998,1022287249432563712,,,11438,False,European Union representatives told me that they would start buying soybeans from our great farmers immediately. Al… https://t.co/Yuqt4KNeDz,True,25073877\n",
      "\n",
      "Thu Jul 26 01:01:08 +0000 2018,62696,1022285656637300736,,,13524,False,Great to be back on track with the European Union. This was a big day for free and fair trade!,False,25073877\n",
      "\n",
      "Thu Jul 26 00:16:32 +0000 2018,40870,1022274433979957248,,,8504,False,\"Thank you Georgia! They say that my endorsement last week of Brian Kemp, in the Republican Primary for Governor aga… https://t.co/M1mCXcWQup\",True,25073877\n",
      "\n",
      "Wed Jul 25 23:49:34 +0000 2018,31753,1022267646119763970,,,7748,False,\"Obviously the European Union, as represented by @JunckerEU and the United States, as represented by yours truly, lo… https://t.co/lCQ2nShUeM\",True,25073877\n",
      "\n"
     ]
    }
   ],
   "source": [
    "for line in open('tweets.20180726-155316.tweet.csv').readlines()[:5]:\n",
    "    print(line)"
   ]
  },
  {
   "cell_type": "markdown",
   "metadata": {},
   "source": [
    "The first nine elements of the list are attributes of the Tweet, while the last one, `user.id`, takes the user object associated with the Tweet, and retrieves the attributes in the list (in this case only the id). The object for the Twitter user is described in the  [Twitter API for users](https://dev.twitter.com/overview/api/users)."
   ]
  },
  {
   "cell_type": "markdown",
   "metadata": {},
   "source": [
    "The rest of the metadata of the Tweet are the so-called [entities](https://dev.twitter.com/overview/api/entities) and [places](https://dev.twitter.com/overview/api/places). The following examples show how to get each of those entities. They all include the id of the Tweet as the first argument, and some of them include also the text for clarity."
   ]
  },
  {
   "cell_type": "code",
   "execution_count": 241,
   "metadata": {},
   "outputs": [],
   "source": [
    "from nltk.twitter.common import json2csv_entities\n",
    "with open(input_file) as fp:\n",
    "    json2csv_entities(fp, 'tweets.20180726-155316.hashtags.csv',\n",
    "                        ['id', 'text'], 'hashtags', ['text'])\n",
    "    \n",
    "with open(input_file) as fp:\n",
    "    json2csv_entities(fp, 'tweets.20180726-155316.user_mentions.csv',\n",
    "                        ['id', 'text'], 'user_mentions', ['id', 'screen_name'])\n",
    "    \n",
    "with open(input_file) as fp:\n",
    "    json2csv_entities(fp, 'tweets.20180726-155316.media.csv',\n",
    "                        ['id'], 'media', ['media_url', 'url'])\n",
    "    \n",
    "with open(input_file) as fp:\n",
    "    json2csv_entities(fp, 'tweets.20180726-155316.urls.csv',\n",
    "                        ['id'], 'urls', ['url', 'expanded_url'])\n",
    "    \n",
    "with open(input_file) as fp:\n",
    "    json2csv_entities(fp, 'tweets.20180726-155316.place.csv',\n",
    "                        ['id', 'text'], 'place', ['name', 'country'])\n",
    "\n",
    "with open(input_file) as fp:\n",
    "    json2csv_entities(fp, 'tweets.20180726-155316.place_bounding_box.csv',\n",
    "                        ['id', 'name'], 'place.bounding_box', ['coordinates'])"
   ]
  },
  {
   "cell_type": "markdown",
   "metadata": {},
   "source": [
    "Additionally, when a Tweet is actually a retweet, the original tweet can be also fetched from the same file, as follows:"
   ]
  },
  {
   "cell_type": "code",
   "execution_count": 242,
   "metadata": {},
   "outputs": [],
   "source": [
    "with open(input_file) as fp:\n",
    "    json2csv_entities(fp, 'tweets.20180726-155316.original_tweets.csv',\n",
    "                        ['id'], 'retweeted_status', ['created_at', 'favorite_count', \n",
    "                        'id', 'in_reply_to_status_id', 'in_reply_to_user_id', 'retweet_count',\n",
    "                        'text', 'truncated', 'user.id'])"
   ]
  },
  {
   "cell_type": "markdown",
   "metadata": {},
   "source": [
    "Here the first id corresponds to the retweeted Tweet, and the second id to the original Tweet.\n",
    "\n",
    "### Using Dataframes\n",
    "\n",
    "Sometimes it's convenient to manipulate CSV files as tabular data, and this is made easy with the [Pandas](http://pandas.pydata.org/) data analysis library. `pandas` is not currrently one of the dependencies of NLTK, and you will probably have to install it specially.\n",
    "\n",
    "Here is an example of how to read a CSV file into a `pandas` dataframe. We use the `head()` method of a dataframe to just show the first 5 rows."
   ]
  },
  {
   "cell_type": "code",
   "execution_count": 244,
   "metadata": {},
   "outputs": [
    {
     "data": {
      "text/html": [
       "<div>\n",
       "<style scoped>\n",
       "    .dataframe tbody tr th:only-of-type {\n",
       "        vertical-align: middle;\n",
       "    }\n",
       "\n",
       "    .dataframe tbody tr th {\n",
       "        vertical-align: top;\n",
       "    }\n",
       "\n",
       "    .dataframe thead th {\n",
       "        text-align: right;\n",
       "    }\n",
       "</style>\n",
       "<table border=\"1\" class=\"dataframe\">\n",
       "  <thead>\n",
       "    <tr style=\"text-align: right;\">\n",
       "      <th></th>\n",
       "      <th>created_at</th>\n",
       "      <th>favorite_count</th>\n",
       "      <th>id</th>\n",
       "      <th>in_reply_to_status_id</th>\n",
       "      <th>in_reply_to_user_id</th>\n",
       "      <th>retweet_count</th>\n",
       "      <th>retweeted</th>\n",
       "      <th>text</th>\n",
       "      <th>truncated</th>\n",
       "      <th>user.id</th>\n",
       "    </tr>\n",
       "  </thead>\n",
       "  <tbody>\n",
       "    <tr>\n",
       "      <th>0</th>\n",
       "      <td>Thu Jul 26 01:07:28 +0000 2018</td>\n",
       "      <td>47998</td>\n",
       "      <td>1022287249432563712</td>\n",
       "      <td>NaN</td>\n",
       "      <td>NaN</td>\n",
       "      <td>11438</td>\n",
       "      <td>False</td>\n",
       "      <td>European Union representatives told me that th...</td>\n",
       "      <td>True</td>\n",
       "      <td>25073877</td>\n",
       "    </tr>\n",
       "    <tr>\n",
       "      <th>1</th>\n",
       "      <td>Thu Jul 26 01:01:08 +0000 2018</td>\n",
       "      <td>62696</td>\n",
       "      <td>1022285656637300736</td>\n",
       "      <td>NaN</td>\n",
       "      <td>NaN</td>\n",
       "      <td>13524</td>\n",
       "      <td>False</td>\n",
       "      <td>Great to be back on track with the European Un...</td>\n",
       "      <td>False</td>\n",
       "      <td>25073877</td>\n",
       "    </tr>\n",
       "    <tr>\n",
       "      <th>2</th>\n",
       "      <td>Thu Jul 26 00:16:32 +0000 2018</td>\n",
       "      <td>40870</td>\n",
       "      <td>1022274433979957248</td>\n",
       "      <td>NaN</td>\n",
       "      <td>NaN</td>\n",
       "      <td>8504</td>\n",
       "      <td>False</td>\n",
       "      <td>Thank you Georgia! They say that my endorsemen...</td>\n",
       "      <td>True</td>\n",
       "      <td>25073877</td>\n",
       "    </tr>\n",
       "    <tr>\n",
       "      <th>3</th>\n",
       "      <td>Wed Jul 25 23:49:34 +0000 2018</td>\n",
       "      <td>31753</td>\n",
       "      <td>1022267646119763970</td>\n",
       "      <td>NaN</td>\n",
       "      <td>NaN</td>\n",
       "      <td>7748</td>\n",
       "      <td>False</td>\n",
       "      <td>Obviously the European Union, as represented b...</td>\n",
       "      <td>True</td>\n",
       "      <td>25073877</td>\n",
       "    </tr>\n",
       "    <tr>\n",
       "      <th>4</th>\n",
       "      <td>Wed Jul 25 23:42:24 +0000 2018</td>\n",
       "      <td>31348</td>\n",
       "      <td>1022265842644525056</td>\n",
       "      <td>1.022266e+18</td>\n",
       "      <td>25073877.0</td>\n",
       "      <td>7472</td>\n",
       "      <td>False</td>\n",
       "      <td>...along quickly. European Union Nations will ...</td>\n",
       "      <td>True</td>\n",
       "      <td>25073877</td>\n",
       "    </tr>\n",
       "  </tbody>\n",
       "</table>\n",
       "</div>"
      ],
      "text/plain": [
       "                       created_at  favorite_count                   id  \\\n",
       "0  Thu Jul 26 01:07:28 +0000 2018           47998  1022287249432563712   \n",
       "1  Thu Jul 26 01:01:08 +0000 2018           62696  1022285656637300736   \n",
       "2  Thu Jul 26 00:16:32 +0000 2018           40870  1022274433979957248   \n",
       "3  Wed Jul 25 23:49:34 +0000 2018           31753  1022267646119763970   \n",
       "4  Wed Jul 25 23:42:24 +0000 2018           31348  1022265842644525056   \n",
       "\n",
       "   in_reply_to_status_id  in_reply_to_user_id  retweet_count  retweeted  \\\n",
       "0                    NaN                  NaN          11438      False   \n",
       "1                    NaN                  NaN          13524      False   \n",
       "2                    NaN                  NaN           8504      False   \n",
       "3                    NaN                  NaN           7748      False   \n",
       "4           1.022266e+18           25073877.0           7472      False   \n",
       "\n",
       "                                                text  truncated   user.id  \n",
       "0  European Union representatives told me that th...       True  25073877  \n",
       "1  Great to be back on track with the European Un...      False  25073877  \n",
       "2  Thank you Georgia! They say that my endorsemen...       True  25073877  \n",
       "3  Obviously the European Union, as represented b...       True  25073877  \n",
       "4  ...along quickly. European Union Nations will ...       True  25073877  "
      ]
     },
     "execution_count": 244,
     "metadata": {},
     "output_type": "execute_result"
    }
   ],
   "source": [
    "import pandas as pd\n",
    "tweets = pd.read_csv('tweets.20180726-155316.tweet.csv', encoding=\"utf8\")\n",
    "tweets.head(5)"
   ]
  },
  {
   "cell_type": "markdown",
   "metadata": {},
   "source": [
    "Using the dataframe it is easy, for example, to first select Tweets with a specific user ID and then retrieve their `'text'` value."
   ]
  },
  {
   "cell_type": "code",
   "execution_count": 245,
   "metadata": {},
   "outputs": [
    {
     "data": {
      "text/plain": [
       "0    European Union representatives told me that th...\n",
       "1    Great to be back on track with the European Un...\n",
       "2    Thank you Georgia! They say that my endorsemen...\n",
       "3    Obviously the European Union, as represented b...\n",
       "4    ...along quickly. European Union Nations will ...\n",
       "5    Great meeting on Trade today with @JunckerEU a...\n",
       "6    Thank you very much, working hard! https://t.c...\n",
       "7    Sergio Marchionne, who passed away today, was ...\n",
       "8    This week, my Administration is hosting the fi...\n",
       "Name: text, dtype: object"
      ]
     },
     "execution_count": 245,
     "metadata": {},
     "output_type": "execute_result"
    }
   ],
   "source": [
    "tweets.loc[tweets['user.id'] == 25073877]['text']"
   ]
  }
 ],
 "metadata": {
  "celltoolbar": "Raw Cell Format",
  "kernelspec": {
   "display_name": "pyenv36",
   "language": "python",
   "name": "pyenv36"
  },
  "language_info": {
   "codemirror_mode": {
    "name": "ipython",
    "version": 3
   },
   "file_extension": ".py",
   "mimetype": "text/x-python",
   "name": "python",
   "nbconvert_exporter": "python",
   "pygments_lexer": "ipython3",
   "version": "3.6.5"
  }
 },
 "nbformat": 4,
 "nbformat_minor": 1
}
